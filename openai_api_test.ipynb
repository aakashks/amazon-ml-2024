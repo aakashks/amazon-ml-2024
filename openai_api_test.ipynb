{
 "cells": [
  {
   "cell_type": "code",
   "execution_count": null,
   "metadata": {},
   "outputs": [],
   "source": [
    "from openai import OpenAI\n",
    "\n",
    "\n",
    "openai_api_key = \"EMPTY\"\n",
    "openai_api_base = \"http://0.0.0.0:8181/v1\"\n",
    "\n",
    "client = OpenAI(\n",
    "    api_key=openai_api_key,\n",
    "    base_url=openai_api_base,\n",
    ")\n",
    "\n",
    "image_url = \"https://m.media-amazon.com/images/I/415OuDUtT1L.jpg\"\n",
    "prompt = \"\"\"\n",
    "Analyze the given image and extract the following details in JSON format: \n",
    "Keys: item_weight, item_volume, voltage, wattage, maximum_weight_recommendation, height, depth, width.\n",
    "For each key, if the value is invalid or not available, return an empty string \"\". \n",
    "Format the output as a JSON object: { \"item_weight\": <value or \"\">, \"item_volume\": <value or \"\">, \"voltage\": <value or \"\">, \"wattage\": <value or \"\">, \"maximum_weight_recommendation\": <value or \"\">, \"height\": <value or \"\">, \"depth\": <value or \"\">, \"width\": <value or \"\"> } \n",
    "Ensure that each key is filled with a valid value or an empty string.\n",
    "\"\"\"\n",
    "\n",
    "chat_response = client.chat.completions.create(\n",
    "    model=\"Qwen/Qwen2-VL-7B-Instruct\",\n",
    "    messages=[{\n",
    "        \"role\": \"user\",\n",
    "        \"content\": [\n",
    "            {\"type\": \"text\", \"text\": [prompt, \"describe the image\"]},\n",
    "            {\"type\": \"image_url\", \"image_url\": {\"url\": image_url}},\n",
    "        ],\n",
    "    }],\n",
    ")\n",
    "print(\"Chat completion output:\", chat_response.choices[0].message.content)"
   ]
  },
  {
   "cell_type": "code",
   "execution_count": null,
   "metadata": {},
   "outputs": [],
   "source": []
  }
 ],
 "metadata": {
  "kernelspec": {
   "display_name": "temp",
   "language": "python",
   "name": "python3"
  },
  "language_info": {
   "codemirror_mode": {
    "name": "ipython",
    "version": 3
   },
   "file_extension": ".py",
   "mimetype": "text/x-python",
   "name": "python",
   "nbconvert_exporter": "python",
   "pygments_lexer": "ipython3",
   "version": "3.10.13"
  }
 },
 "nbformat": 4,
 "nbformat_minor": 2
}
