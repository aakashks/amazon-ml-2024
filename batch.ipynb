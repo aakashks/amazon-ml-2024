{
 "cells": [
  {
   "cell_type": "code",
   "execution_count": null,
   "metadata": {},
   "outputs": [],
   "source": [
    "from vllm import LLM\n",
    "\n",
    "llm = LLM(model=\"llava-hf/llava-1.5-7b-hf\")"
   ]
  },
  {
   "cell_type": "code",
   "execution_count": null,
   "metadata": {},
   "outputs": [],
   "source": [
    "# Refer to the HuggingFace repo for the correct format to use\n",
    "prompt = \"USER: <image>\\nWhat is the content of this image?\\nASSISTANT:\"\n",
    "\n",
    "# Load the image using PIL.Image\n",
    "image = PIL.Image.open(...)\n",
    "\n",
    "# Single prompt inference\n",
    "outputs = llm.generate({\n",
    "    \"prompt\": prompt,\n",
    "    \"multi_modal_data\": {\"image\": image},\n",
    "})\n",
    "\n",
    "for o in outputs:\n",
    "    generated_text = o.outputs[0].text\n",
    "    print(generated_text)\n",
    "\n",
    "# Inference with image embeddings as input\n",
    "image_embeds = torch.load(...) # torch.Tensor of shape (1, image_feature_size, hidden_size of LM)\n",
    "outputs = llm.generate({\n",
    "    \"prompt\": prompt,\n",
    "    \"multi_modal_data\": {\"image\": image_embeds},\n",
    "})\n",
    "\n",
    "for o in outputs:\n",
    "    generated_text = o.outputs[0].text\n",
    "    print(generated_text)\n",
    "\n",
    "# Batch inference\n",
    "image_1 = PIL.Image.open(...)\n",
    "image_2 = PIL.Image.open(...)\n",
    "outputs = llm.generate(\n",
    "    [\n",
    "        {\n",
    "            \"prompt\": \"USER: <image>\\nWhat is the content of this image?\\nASSISTANT:\",\n",
    "            \"multi_modal_data\": {\"image\": image_1},\n",
    "        },\n",
    "        {\n",
    "            \"prompt\": \"USER: <image>\\nWhat's the color of this image?\\nASSISTANT:\",\n",
    "            \"multi_modal_data\": {\"image\": image_2},\n",
    "        }\n",
    "    ]\n",
    ")\n",
    "\n",
    "for o in outputs:\n",
    "    generated_text = o.outputs[0].text\n",
    "    print(generated_text)"
   ]
  }
 ],
 "metadata": {
  "language_info": {
   "name": "python"
  }
 },
 "nbformat": 4,
 "nbformat_minor": 2
}
